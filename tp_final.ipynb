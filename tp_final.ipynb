{
  "cells": [
    {
      "cell_type": "code",
      "execution_count": 1,
      "metadata": {
        "colab": {
          "base_uri": "https://localhost:8080/"
        },
        "id": "dzp_-6CqQF1-",
        "outputId": "71fc43bf-6ac1-44cf-d863-aeb545407be7"
      },
      "outputs": [
        {
          "output_type": "stream",
          "name": "stdout",
          "text": [
            "Mounted at /content/drive\n"
          ]
        }
      ],
      "source": [
        "from google.colab import drive\n",
        "drive.mount(\"/content/drive\")"
      ]
    },
    {
      "cell_type": "code",
      "execution_count": null,
      "metadata": {
        "id": "x2S6bDC0Qmz5"
      },
      "outputs": [],
      "source": [
        "!pip install transformers datasets accelerate peft"
      ]
    },
    {
      "cell_type": "code",
      "source": [
        "import numpy as np\n",
        "import evaluate"
      ],
      "metadata": {
        "id": "9tAolTzYOsj0"
      },
      "execution_count": 6,
      "outputs": []
    },
    {
      "cell_type": "code",
      "execution_count": 13,
      "metadata": {
        "colab": {
          "base_uri": "https://localhost:8080/",
          "height": 136,
          "referenced_widgets": [
            "033381365c2c4261bd7a87dfe6f21659",
            "25d793f394f74fd8aa5b9f62af7791e1",
            "88ca68750714499a9171cae57963d8d2",
            "82a02c5f7da6468998e493faa26fc2c6",
            "0efe43e5bae240888376c9d14799f41a",
            "5cd41bd3ab684afa934297ec332f95c4",
            "30153a9a3b534f6b8d8d9ea1093ccd0b",
            "5e20de58d7684a5984234e76a762a998",
            "60b4029809ce475781283cc334b2a9d1",
            "cfc09ece463845c5865160b26cf1cd23",
            "dea9c8b22b5349348ef7490c356e3aeb",
            "18a68cfb06c54597ab07d0c8181e7789",
            "14395c257f5b4377b3d0031b6f3f3067",
            "09949e2b21ed4e64b5ac6c596f8cc387",
            "8f4bbd955059482983d41b52aaddedaf",
            "1b49dd50308445f7a19e81fc0e4accf6",
            "8aa5f41e63094040aced02fda1e7efdd",
            "6f5d9ee901464680affea1ee9c4e60f9",
            "a936773384eb4eeeaf80aaf78fe3a1f4",
            "2345a3f5c26c455793bcb99c7055690c",
            "863847b7008945f69077561b31d55529",
            "c4bad985ea0e46a6a4b353dc5ea4aaa7"
          ]
        },
        "id": "PpjZMwqRPpjE",
        "outputId": "24c3a0a9-e889-4cde-c091-21496521edde"
      },
      "outputs": [
        {
          "output_type": "display_data",
          "data": {
            "text/plain": [
              "Map:   0%|          | 0/260 [00:00<?, ? examples/s]"
            ],
            "application/vnd.jupyter.widget-view+json": {
              "version_major": 2,
              "version_minor": 0,
              "model_id": "033381365c2c4261bd7a87dfe6f21659"
            }
          },
          "metadata": {}
        },
        {
          "output_type": "stream",
          "name": "stderr",
          "text": [
            "/usr/local/lib/python3.10/dist-packages/transformers/tokenization_utils_base.py:4016: UserWarning: `as_target_tokenizer` is deprecated and will be removed in v5 of Transformers. You can tokenize your labels by using the argument `text_target` of the regular `__call__` method (either in the same call as your input texts if you use the same keyword arguments, or in a separate call.\n",
            "  warnings.warn(\n"
          ]
        },
        {
          "output_type": "display_data",
          "data": {
            "text/plain": [
              "Map:   0%|          | 0/112 [00:00<?, ? examples/s]"
            ],
            "application/vnd.jupyter.widget-view+json": {
              "version_major": 2,
              "version_minor": 0,
              "model_id": "18a68cfb06c54597ab07d0c8181e7789"
            }
          },
          "metadata": {}
        }
      ],
      "source": [
        "from transformers import GPT2Tokenizer, GPT2LMHeadModel, Trainer, TrainingArguments\n",
        "from datasets import Dataset\n",
        "import json\n",
        "from peft import LoraConfig, get_peft_model, TaskType\n",
        "\n",
        "# Carregar os dados\n",
        "with open('/content/drive/MyDrive/tp3/base-sintetica.json', 'r', encoding='utf-8') as f:\n",
        "    data = json.load(f)\n",
        "\n",
        "# Preparar o dataset\n",
        "formatted_data = [{\"input_text\": f\"Pergunta: {item['question']} Contexto: \", \"target_text\": f\"Resposta: {item['answer']}\"} for item in data]\n",
        "dataset = Dataset.from_list(formatted_data)\n",
        "train_test_split = dataset.train_test_split(test_size=0.3)\n",
        "train_dataset = train_test_split['train']\n",
        "val_dataset = train_test_split['test']\n",
        "\n",
        "# Inicializar o tokenizer\n",
        "tokenizer = GPT2Tokenizer.from_pretrained(\"pierreguillou/gpt2-small-portuguese\")\n",
        "\n",
        "# Função de pré-processamento\n",
        "def preprocess_function(examples):\n",
        "    inputs = examples[\"input_text\"]\n",
        "    targets = examples[\"target_text\"]\n",
        "    model_inputs = tokenizer(inputs, max_length=512, truncation=True, padding=\"max_length\")\n",
        "    with tokenizer.as_target_tokenizer():\n",
        "        labels = tokenizer(targets, max_length=512, truncation=True, padding=\"max_length\")\n",
        "    model_inputs[\"labels\"] = labels[\"input_ids\"]\n",
        "    return model_inputs\n",
        "\n",
        "# Aplicar pré-processamento aos datasets de treinamento e validação\n",
        "train_dataset = train_dataset.map(preprocess_function, batched=True)\n",
        "val_dataset = val_dataset.map(preprocess_function, batched=True)"
      ]
    },
    {
      "cell_type": "code",
      "source": [
        "# Carregar o modelo GPT-2\n",
        "model = GPT2LMHeadModel.from_pretrained(\"pierreguillou/gpt2-small-portuguese\")\n",
        "\n",
        "# Configurar LoRA\n",
        "lora_config = LoraConfig(\n",
        "    task_type=TaskType.CAUSAL_LM,  # Correção: usar CAUSAL_LM em vez de SEQ_2_SEQ_LM\n",
        "    r=8,\n",
        "    lora_alpha=32,\n",
        "    lora_dropout=0.1,\n",
        "    target_modules=[\"attn.c_attn\", \"attn.c_proj\"]\n",
        ")\n",
        "\n",
        "model = get_peft_model(model, lora_config)\n",
        "\n",
        "# Configurar os argumentos de treinamento\n",
        "training_args = TrainingArguments(\n",
        "    output_dir=\"/content/drive/MyDrive/tp3/results\",\n",
        "    evaluation_strategy=\"epoch\",\n",
        "    learning_rate=2e-5,\n",
        "    per_device_train_batch_size=4,\n",
        "    per_device_eval_batch_size=4,\n",
        "    num_train_epochs=20,\n",
        "    weight_decay=0.01,\n",
        "    logging_dir=\"/content/drive/MyDrive/tp3/logs\",\n",
        ")\n",
        "\n",
        "# Criar o trainer\n",
        "trainer = Trainer(\n",
        "    model=model,\n",
        "    args=training_args,\n",
        "    train_dataset=train_dataset,\n",
        "    eval_dataset=val_dataset,\n",
        ")\n",
        "\n",
        "# Treinar o modelo\n",
        "trainer.train()"
      ],
      "metadata": {
        "colab": {
          "base_uri": "https://localhost:8080/",
          "height": 826
        },
        "id": "jQiCLayKOPTl",
        "outputId": "3c26da87-3771-48ee-9a0d-512430b07b86"
      },
      "execution_count": 15,
      "outputs": [
        {
          "output_type": "stream",
          "name": "stderr",
          "text": [
            "/usr/local/lib/python3.10/dist-packages/peft/tuners/lora/layer.py:1091: UserWarning: fan_in_fan_out is set to False but the target module is `Conv1D`. Setting fan_in_fan_out to True.\n",
            "  warnings.warn(\n",
            "/usr/local/lib/python3.10/dist-packages/transformers/training_args.py:1494: FutureWarning: `evaluation_strategy` is deprecated and will be removed in version 4.46 of 🤗 Transformers. Use `eval_strategy` instead\n",
            "  warnings.warn(\n"
          ]
        },
        {
          "output_type": "display_data",
          "data": {
            "text/plain": [
              "<IPython.core.display.HTML object>"
            ],
            "text/html": [
              "\n",
              "    <div>\n",
              "      \n",
              "      <progress value='1300' max='1300' style='width:300px; height:20px; vertical-align: middle;'></progress>\n",
              "      [1300/1300 05:36, Epoch 20/20]\n",
              "    </div>\n",
              "    <table border=\"1\" class=\"dataframe\">\n",
              "  <thead>\n",
              " <tr style=\"text-align: left;\">\n",
              "      <th>Epoch</th>\n",
              "      <th>Training Loss</th>\n",
              "      <th>Validation Loss</th>\n",
              "    </tr>\n",
              "  </thead>\n",
              "  <tbody>\n",
              "    <tr>\n",
              "      <td>1</td>\n",
              "      <td>No log</td>\n",
              "      <td>11.757418</td>\n",
              "    </tr>\n",
              "    <tr>\n",
              "      <td>2</td>\n",
              "      <td>No log</td>\n",
              "      <td>7.588318</td>\n",
              "    </tr>\n",
              "    <tr>\n",
              "      <td>3</td>\n",
              "      <td>No log</td>\n",
              "      <td>1.109222</td>\n",
              "    </tr>\n",
              "    <tr>\n",
              "      <td>4</td>\n",
              "      <td>No log</td>\n",
              "      <td>1.087124</td>\n",
              "    </tr>\n",
              "    <tr>\n",
              "      <td>5</td>\n",
              "      <td>No log</td>\n",
              "      <td>0.980742</td>\n",
              "    </tr>\n",
              "    <tr>\n",
              "      <td>6</td>\n",
              "      <td>No log</td>\n",
              "      <td>0.928745</td>\n",
              "    </tr>\n",
              "    <tr>\n",
              "      <td>7</td>\n",
              "      <td>No log</td>\n",
              "      <td>0.894033</td>\n",
              "    </tr>\n",
              "    <tr>\n",
              "      <td>8</td>\n",
              "      <td>4.363100</td>\n",
              "      <td>0.843231</td>\n",
              "    </tr>\n",
              "    <tr>\n",
              "      <td>9</td>\n",
              "      <td>4.363100</td>\n",
              "      <td>0.825398</td>\n",
              "    </tr>\n",
              "    <tr>\n",
              "      <td>10</td>\n",
              "      <td>4.363100</td>\n",
              "      <td>0.804769</td>\n",
              "    </tr>\n",
              "    <tr>\n",
              "      <td>11</td>\n",
              "      <td>4.363100</td>\n",
              "      <td>0.788306</td>\n",
              "    </tr>\n",
              "    <tr>\n",
              "      <td>12</td>\n",
              "      <td>4.363100</td>\n",
              "      <td>0.773182</td>\n",
              "    </tr>\n",
              "    <tr>\n",
              "      <td>13</td>\n",
              "      <td>4.363100</td>\n",
              "      <td>0.766210</td>\n",
              "    </tr>\n",
              "    <tr>\n",
              "      <td>14</td>\n",
              "      <td>4.363100</td>\n",
              "      <td>0.757773</td>\n",
              "    </tr>\n",
              "    <tr>\n",
              "      <td>15</td>\n",
              "      <td>4.363100</td>\n",
              "      <td>0.746436</td>\n",
              "    </tr>\n",
              "    <tr>\n",
              "      <td>16</td>\n",
              "      <td>0.776200</td>\n",
              "      <td>0.745800</td>\n",
              "    </tr>\n",
              "    <tr>\n",
              "      <td>17</td>\n",
              "      <td>0.776200</td>\n",
              "      <td>0.744309</td>\n",
              "    </tr>\n",
              "    <tr>\n",
              "      <td>18</td>\n",
              "      <td>0.776200</td>\n",
              "      <td>0.743265</td>\n",
              "    </tr>\n",
              "    <tr>\n",
              "      <td>19</td>\n",
              "      <td>0.776200</td>\n",
              "      <td>0.737476</td>\n",
              "    </tr>\n",
              "    <tr>\n",
              "      <td>20</td>\n",
              "      <td>0.776200</td>\n",
              "      <td>0.736927</td>\n",
              "    </tr>\n",
              "  </tbody>\n",
              "</table><p>"
            ]
          },
          "metadata": {}
        },
        {
          "output_type": "execute_result",
          "data": {
            "text/plain": [
              "TrainOutput(global_step=1300, training_loss=2.1434459158090444, metrics={'train_runtime': 336.3927, 'train_samples_per_second': 15.458, 'train_steps_per_second': 3.865, 'total_flos': 1365785129779200.0, 'train_loss': 2.1434459158090444, 'epoch': 20.0})"
            ]
          },
          "metadata": {},
          "execution_count": 15
        }
      ]
    },
    {
      "cell_type": "code",
      "source": [
        "# Salvar o modelo treinado e o tokenizer\n",
        "trainer.save_model(\"/content/drive/MyDrive/tp3/modelo\")\n",
        "tokenizer.save_pretrained(\"/content/drive/MyDrive/tp3/modelo\")"
      ],
      "metadata": {
        "colab": {
          "base_uri": "https://localhost:8080/"
        },
        "id": "Xw6Z3DKuTWZb",
        "outputId": "2e1fb977-3132-4186-ebaa-8ab6da3b95d2"
      },
      "execution_count": 16,
      "outputs": [
        {
          "output_type": "execute_result",
          "data": {
            "text/plain": [
              "('/content/drive/MyDrive/tp3/modelo/tokenizer_config.json',\n",
              " '/content/drive/MyDrive/tp3/modelo/special_tokens_map.json',\n",
              " '/content/drive/MyDrive/tp3/modelo/vocab.json',\n",
              " '/content/drive/MyDrive/tp3/modelo/merges.txt',\n",
              " '/content/drive/MyDrive/tp3/modelo/added_tokens.json')"
            ]
          },
          "metadata": {},
          "execution_count": 16
        }
      ]
    },
    {
      "cell_type": "code",
      "source": [
        "import torch\n",
        "import numpy as np\n",
        "from torch.nn import functional as F\n",
        "\n",
        "# Função para calcular a perplexidade manualmente\n",
        "def calculate_perplexity(model, dataset, tokenizer):\n",
        "    model.eval()\n",
        "\n",
        "    # Preparar dados\n",
        "    def collate_fn(batch):\n",
        "        inputs = tokenizer([example['input_text'] for example in batch], return_tensors='pt', max_length=512, truncation=True, padding='max_length')\n",
        "        labels = tokenizer([example['target_text'] for example in batch], return_tensors='pt', max_length=512, truncation=True, padding='max_length').input_ids\n",
        "        inputs['labels'] = labels\n",
        "        return inputs\n",
        "\n",
        "    dataloader = torch.utils.data.DataLoader(dataset, batch_size=1, collate_fn=collate_fn)\n",
        "\n",
        "    # Mover modelo para a GPU se disponível\n",
        "    device = torch.device(\"cuda\" if torch.cuda.is_available() else \"cpu\")\n",
        "    model.to(device)\n",
        "\n",
        "    total_loss = 0\n",
        "    total_tokens = 0\n",
        "\n",
        "    for batch in dataloader:\n",
        "        # Mover dados para o mesmo dispositivo que o modelo\n",
        "        batch = {k: v.to(device) for k, v in batch.items()}\n",
        "\n",
        "        with torch.no_grad():\n",
        "            outputs = model(**batch)\n",
        "            logits = outputs.logits\n",
        "            labels = batch['labels']\n",
        "\n",
        "            # Shift logits and labels for calculating the loss\n",
        "            shift_logits = logits[..., :-1, :].contiguous()\n",
        "            shift_labels = labels[..., 1:].contiguous()\n",
        "\n",
        "            loss_fct = torch.nn.CrossEntropyLoss(ignore_index=tokenizer.pad_token_id, reduction='sum')\n",
        "            loss = loss_fct(shift_logits.view(-1, shift_logits.size(-1)), shift_labels.view(-1))\n",
        "\n",
        "            total_loss += loss.item()\n",
        "            total_tokens += shift_labels.numel() - (shift_labels == tokenizer.pad_token_id).sum().item()\n",
        "\n",
        "    perplexity = np.exp(total_loss / total_tokens)\n",
        "    return perplexity\n",
        "\n",
        "# Calcular perplexidade no conjunto de validação\n",
        "perplexity = calculate_perplexity(model, val_dataset, tokenizer)\n",
        "print(f\"Perplexity: {perplexity}\")"
      ],
      "metadata": {
        "colab": {
          "base_uri": "https://localhost:8080/"
        },
        "id": "Q0J2ftNGTXP9",
        "outputId": "e77046b7-4a4b-4675-a0e5-d149a5ebd0a3"
      },
      "execution_count": 23,
      "outputs": [
        {
          "output_type": "stream",
          "name": "stdout",
          "text": [
            "Perplexity: 9661.036227619144\n"
          ]
        }
      ]
    },
    {
      "cell_type": "markdown",
      "source": [
        "**Implementação de RAG**"
      ],
      "metadata": {
        "id": "2QB094eSTczK"
      }
    },
    {
      "cell_type": "code",
      "execution_count": null,
      "metadata": {
        "id": "6N5SUDaBR6vh"
      },
      "outputs": [],
      "source": [
        "!pip install faiss-cpu"
      ]
    },
    {
      "cell_type": "code",
      "source": [
        "!pip install sentence-transformers"
      ],
      "metadata": {
        "id": "qdHTUqpFd_qs"
      },
      "execution_count": null,
      "outputs": []
    },
    {
      "cell_type": "code",
      "source": [
        "import os\n",
        "import faiss\n",
        "import numpy as np\n",
        "from sentence_transformers import SentenceTransformer\n",
        "from transformers import GPT2LMHeadModel, GPT2Tokenizer, pipeline as hf_pipeline\n",
        "\n",
        "# Carregar o modelo de embeddings\n",
        "embedding_model = SentenceTransformer('sentence-transformers/paraphrase-MiniLM-L6-v2')\n",
        "\n",
        "# Função para extrair embeddings de texto\n",
        "def get_embeddings(texts):\n",
        "    embeddings = embedding_model.encode(texts, convert_to_tensor=True).cpu().numpy()\n",
        "    return embeddings\n",
        "\n",
        "# Carregar e indexar documentos\n",
        "documents = []\n",
        "document_path = \"/content/drive/MyDrive/tp3/textos_extraidos\"\n",
        "for filename in os.listdir(document_path):\n",
        "    if filename.endswith(\".txt\"):\n",
        "        with open(os.path.join(document_path, filename), 'r', encoding='utf-8') as file:\n",
        "            content = file.read()\n",
        "            documents.append(content)\n",
        "\n",
        "# Verificar se documentos foram carregados corretamente\n",
        "print(f\"Total de documentos carregados: {len(documents)}\")\n",
        "\n",
        "# Extrair embeddings dos documentos\n",
        "doc_embeddings = get_embeddings(documents)\n",
        "\n",
        "# Verificar dimensões dos embeddings\n",
        "print(f\"Dimensões dos embeddings: {doc_embeddings.shape}\")\n",
        "\n",
        "# Criar o índice FAISS\n",
        "dimension = doc_embeddings.shape[1]\n",
        "index = faiss.IndexFlatL2(dimension)\n",
        "index.add(doc_embeddings)\n",
        "\n",
        "# Carregar o modelo ajustado para geração de respostas\n",
        "model_path = \"/content/drive/MyDrive/tp3/modelo\"\n",
        "model = GPT2LMHeadModel.from_pretrained(model_path)\n",
        "tokenizer_gpt2 = GPT2Tokenizer.from_pretrained(model_path)\n",
        "\n",
        "qa_pipeline = hf_pipeline(\"text-generation\", model=model, tokenizer=tokenizer_gpt2)\n",
        "\n",
        "# Função para busca de documentos\n",
        "def search_documents(query, k=5):\n",
        "    query_embedding = get_embeddings([query])\n",
        "    distances, indices = index.search(query_embedding, k)\n",
        "    valid_indices = [i for i in indices[0] if i < len(documents)]\n",
        "    results = [documents[i] for i in valid_indices]\n",
        "    return results\n",
        "\n",
        "# Função para gerar resposta\n",
        "def generate_answer(question, retrieved_documents):\n",
        "    context = \"\\n\".join(retrieved_documents[:3])\n",
        "    input_text = f\"Resposta:\"\n",
        "    result = qa_pipeline(input_text, max_new_tokens=30, num_return_sequences=1)\n",
        "    return result[0]['generated_text'].strip()\n",
        "\n",
        "# Função para fazer uma pergunta\n",
        "def ask_question(question):\n",
        "    retrieved_docs = search_documents(question, k=5)\n",
        "    if not retrieved_docs:\n",
        "        return \"Desculpe, não consegui encontrar informações relevantes.\"\n",
        "    answer = generate_answer(question, retrieved_docs)\n",
        "    return answer"
      ],
      "metadata": {
        "colab": {
          "base_uri": "https://localhost:8080/"
        },
        "id": "79AyglPnV9rM",
        "outputId": "f7e4b2fe-0e39-4eae-8396-8c110ace932b"
      },
      "execution_count": 66,
      "outputs": [
        {
          "output_type": "stream",
          "name": "stdout",
          "text": [
            "Total de documentos carregados: 58\n",
            "Dimensões dos embeddings: (58, 384)\n"
          ]
        },
        {
          "output_type": "stream",
          "name": "stderr",
          "text": [
            "Hardware accelerator e.g. GPU is available in the environment, but no `device` argument is passed to the `Pipeline` object. Model will be on CPU.\n"
          ]
        }
      ]
    },
    {
      "cell_type": "code",
      "source": [
        "# Exemplo de uso\n",
        "questions = [\n",
        "    \"Qual é o objetivo principal da Lei nº 12.089/2009?\",\n",
        "    \"Como deve ser realizada a matrícula em cursos a distância?\",\n",
        "    \"Qual é a responsabilidade do Poder Público em relação à acessibilidade?\",\n",
        "    \"Quais são os direitos dos estagiários?\"\n",
        "]\n",
        "\n",
        "for question in questions:\n",
        "    try:\n",
        "        answer = ask_question(question)\n",
        "        print(f\"{question}\")\n",
        "        print(f\"{answer}\")\n",
        "        print(\"=\"*50)\n",
        "    except IndexError as e:\n",
        "        print(f\"Erro ao processar a pergunta: {question}\")\n",
        "        print(e)\n",
        "        print(\"=\"*50)"
      ],
      "metadata": {
        "colab": {
          "base_uri": "https://localhost:8080/"
        },
        "id": "2BwF8UzyYj7M",
        "outputId": "b944fdc4-428d-43b6-eecd-9b6a8308c39e"
      },
      "execution_count": 67,
      "outputs": [
        {
          "output_type": "stream",
          "name": "stdout",
          "text": [
            "Qual é o objetivo principal da Lei nº 12.089/2009?\n",
            "Resposta: 8 \n",
            "2 - o que é a história. os do, e se, um. da forma do documento, forma- se um um.\n",
            "==================================================\n",
            "Como deve ser realizada a matrícula em cursos a distância?\n",
            "Resposta:= > \"Pate para os resultados das de as atividades do da pesquisa poderá do aluno o trabalho que a seguir, a pontuação de\n",
            "==================================================\n",
            "Qual é a responsabilidade do Poder Público em relação à acessibilidade?\n",
            "Resposta: P e o\n",
            "\n",
            "Um de seus exemplos de desenvolvimento para o C meio em que o documento poderá fazer o dolo poderá aprender de maneira e do\n",
            "==================================================\n",
            "Quais são os direitos dos estagiários?\n",
            "Resposta:\n",
            "\n",
            "Alfredo, o “Homem do Mar do País de estudo das ciências e do do Governo para pós, pode aprender como o seu@\n",
            "==================================================\n"
          ]
        }
      ]
    },
    {
      "cell_type": "code",
      "execution_count": 68,
      "metadata": {
        "colab": {
          "base_uri": "https://localhost:8080/"
        },
        "id": "L7gf9HbSWUVu",
        "outputId": "a0bcf1ab-2ba0-44fc-b046-befc865b8b69"
      },
      "outputs": [
        {
          "output_type": "stream",
          "name": "stdout",
          "text": [
            "Pergunta: Qual é a política de matrícula tardia?\n",
            "Resposta: \"\n",
            ", é feita de duas, do que todas as\n",
            "contas - se os - forem também - ou é como, aprender\n",
            "==================================================\n",
            "Pergunta: Como funciona o trancamento de curso?\n",
            "Resposta: 1\n",
            "\n",
            "Com base em dados, do clima adaptado, dados, é permitido o acesso a pessoas. na instituição. com links de\n",
            "==================================================\n",
            "Pergunta: Quais são as normas para transferência de curso?\n",
            "Resposta: A e o de a outros o é que as informações estão disponíveis que você poderá do do do no do dos outros forma para de informações na forma de\n",
            "==================================================\n",
            "Pergunta: O que acontece se eu perder o prazo de matrícula?\n",
            "Resposta: Seres a sua morte a seus amigos de ensino, as suas opções para os filhos, se for ainda a pessoa-guia de quem que estiver à\n",
            "==================================================\n",
            "Pergunta: Quais são as regras para troca de turno?\n",
            "Resposta: \"Lista de itens de suporte do no no no poderá incluir no no programa.\n",
            "\n",
            "Lista de programas ou artigos de\n",
            " é do\n",
            "==================================================\n"
          ]
        }
      ],
      "source": [
        "# Mais exemplos\n",
        "questions = [\n",
        "    \"Qual é a política de matrícula tardia?\",\n",
        "    \"Como funciona o trancamento de curso?\",\n",
        "    \"Quais são as normas para transferência de curso?\",\n",
        "    \"O que acontece se eu perder o prazo de matrícula?\",\n",
        "    \"Quais são as regras para troca de turno?\"\n",
        "]\n",
        "\n",
        "for question in questions:\n",
        "    answer = ask_question(question)\n",
        "    print(f\"Pergunta: {question}\")\n",
        "    print(f\"{answer}\")\n",
        "    print(\"=\"*50)"
      ]
    }
  ],
  "metadata": {
    "colab": {
      "provenance": [],
      "gpuType": "T4"
    },
    "kernelspec": {
      "display_name": "Python 3",
      "name": "python3"
    },
    "language_info": {
      "name": "python"
    },
    "widgets": {
      "application/vnd.jupyter.widget-state+json": {
        "033381365c2c4261bd7a87dfe6f21659": {
          "model_module": "@jupyter-widgets/controls",
          "model_name": "HBoxModel",
          "model_module_version": "1.5.0",
          "state": {
            "_dom_classes": [],
            "_model_module": "@jupyter-widgets/controls",
            "_model_module_version": "1.5.0",
            "_model_name": "HBoxModel",
            "_view_count": null,
            "_view_module": "@jupyter-widgets/controls",
            "_view_module_version": "1.5.0",
            "_view_name": "HBoxView",
            "box_style": "",
            "children": [
              "IPY_MODEL_25d793f394f74fd8aa5b9f62af7791e1",
              "IPY_MODEL_88ca68750714499a9171cae57963d8d2",
              "IPY_MODEL_82a02c5f7da6468998e493faa26fc2c6"
            ],
            "layout": "IPY_MODEL_0efe43e5bae240888376c9d14799f41a"
          }
        },
        "25d793f394f74fd8aa5b9f62af7791e1": {
          "model_module": "@jupyter-widgets/controls",
          "model_name": "HTMLModel",
          "model_module_version": "1.5.0",
          "state": {
            "_dom_classes": [],
            "_model_module": "@jupyter-widgets/controls",
            "_model_module_version": "1.5.0",
            "_model_name": "HTMLModel",
            "_view_count": null,
            "_view_module": "@jupyter-widgets/controls",
            "_view_module_version": "1.5.0",
            "_view_name": "HTMLView",
            "description": "",
            "description_tooltip": null,
            "layout": "IPY_MODEL_5cd41bd3ab684afa934297ec332f95c4",
            "placeholder": "​",
            "style": "IPY_MODEL_30153a9a3b534f6b8d8d9ea1093ccd0b",
            "value": "Map: 100%"
          }
        },
        "88ca68750714499a9171cae57963d8d2": {
          "model_module": "@jupyter-widgets/controls",
          "model_name": "FloatProgressModel",
          "model_module_version": "1.5.0",
          "state": {
            "_dom_classes": [],
            "_model_module": "@jupyter-widgets/controls",
            "_model_module_version": "1.5.0",
            "_model_name": "FloatProgressModel",
            "_view_count": null,
            "_view_module": "@jupyter-widgets/controls",
            "_view_module_version": "1.5.0",
            "_view_name": "ProgressView",
            "bar_style": "success",
            "description": "",
            "description_tooltip": null,
            "layout": "IPY_MODEL_5e20de58d7684a5984234e76a762a998",
            "max": 260,
            "min": 0,
            "orientation": "horizontal",
            "style": "IPY_MODEL_60b4029809ce475781283cc334b2a9d1",
            "value": 260
          }
        },
        "82a02c5f7da6468998e493faa26fc2c6": {
          "model_module": "@jupyter-widgets/controls",
          "model_name": "HTMLModel",
          "model_module_version": "1.5.0",
          "state": {
            "_dom_classes": [],
            "_model_module": "@jupyter-widgets/controls",
            "_model_module_version": "1.5.0",
            "_model_name": "HTMLModel",
            "_view_count": null,
            "_view_module": "@jupyter-widgets/controls",
            "_view_module_version": "1.5.0",
            "_view_name": "HTMLView",
            "description": "",
            "description_tooltip": null,
            "layout": "IPY_MODEL_cfc09ece463845c5865160b26cf1cd23",
            "placeholder": "​",
            "style": "IPY_MODEL_dea9c8b22b5349348ef7490c356e3aeb",
            "value": " 260/260 [00:00&lt;00:00, 820.42 examples/s]"
          }
        },
        "0efe43e5bae240888376c9d14799f41a": {
          "model_module": "@jupyter-widgets/base",
          "model_name": "LayoutModel",
          "model_module_version": "1.2.0",
          "state": {
            "_model_module": "@jupyter-widgets/base",
            "_model_module_version": "1.2.0",
            "_model_name": "LayoutModel",
            "_view_count": null,
            "_view_module": "@jupyter-widgets/base",
            "_view_module_version": "1.2.0",
            "_view_name": "LayoutView",
            "align_content": null,
            "align_items": null,
            "align_self": null,
            "border": null,
            "bottom": null,
            "display": null,
            "flex": null,
            "flex_flow": null,
            "grid_area": null,
            "grid_auto_columns": null,
            "grid_auto_flow": null,
            "grid_auto_rows": null,
            "grid_column": null,
            "grid_gap": null,
            "grid_row": null,
            "grid_template_areas": null,
            "grid_template_columns": null,
            "grid_template_rows": null,
            "height": null,
            "justify_content": null,
            "justify_items": null,
            "left": null,
            "margin": null,
            "max_height": null,
            "max_width": null,
            "min_height": null,
            "min_width": null,
            "object_fit": null,
            "object_position": null,
            "order": null,
            "overflow": null,
            "overflow_x": null,
            "overflow_y": null,
            "padding": null,
            "right": null,
            "top": null,
            "visibility": null,
            "width": null
          }
        },
        "5cd41bd3ab684afa934297ec332f95c4": {
          "model_module": "@jupyter-widgets/base",
          "model_name": "LayoutModel",
          "model_module_version": "1.2.0",
          "state": {
            "_model_module": "@jupyter-widgets/base",
            "_model_module_version": "1.2.0",
            "_model_name": "LayoutModel",
            "_view_count": null,
            "_view_module": "@jupyter-widgets/base",
            "_view_module_version": "1.2.0",
            "_view_name": "LayoutView",
            "align_content": null,
            "align_items": null,
            "align_self": null,
            "border": null,
            "bottom": null,
            "display": null,
            "flex": null,
            "flex_flow": null,
            "grid_area": null,
            "grid_auto_columns": null,
            "grid_auto_flow": null,
            "grid_auto_rows": null,
            "grid_column": null,
            "grid_gap": null,
            "grid_row": null,
            "grid_template_areas": null,
            "grid_template_columns": null,
            "grid_template_rows": null,
            "height": null,
            "justify_content": null,
            "justify_items": null,
            "left": null,
            "margin": null,
            "max_height": null,
            "max_width": null,
            "min_height": null,
            "min_width": null,
            "object_fit": null,
            "object_position": null,
            "order": null,
            "overflow": null,
            "overflow_x": null,
            "overflow_y": null,
            "padding": null,
            "right": null,
            "top": null,
            "visibility": null,
            "width": null
          }
        },
        "30153a9a3b534f6b8d8d9ea1093ccd0b": {
          "model_module": "@jupyter-widgets/controls",
          "model_name": "DescriptionStyleModel",
          "model_module_version": "1.5.0",
          "state": {
            "_model_module": "@jupyter-widgets/controls",
            "_model_module_version": "1.5.0",
            "_model_name": "DescriptionStyleModel",
            "_view_count": null,
            "_view_module": "@jupyter-widgets/base",
            "_view_module_version": "1.2.0",
            "_view_name": "StyleView",
            "description_width": ""
          }
        },
        "5e20de58d7684a5984234e76a762a998": {
          "model_module": "@jupyter-widgets/base",
          "model_name": "LayoutModel",
          "model_module_version": "1.2.0",
          "state": {
            "_model_module": "@jupyter-widgets/base",
            "_model_module_version": "1.2.0",
            "_model_name": "LayoutModel",
            "_view_count": null,
            "_view_module": "@jupyter-widgets/base",
            "_view_module_version": "1.2.0",
            "_view_name": "LayoutView",
            "align_content": null,
            "align_items": null,
            "align_self": null,
            "border": null,
            "bottom": null,
            "display": null,
            "flex": null,
            "flex_flow": null,
            "grid_area": null,
            "grid_auto_columns": null,
            "grid_auto_flow": null,
            "grid_auto_rows": null,
            "grid_column": null,
            "grid_gap": null,
            "grid_row": null,
            "grid_template_areas": null,
            "grid_template_columns": null,
            "grid_template_rows": null,
            "height": null,
            "justify_content": null,
            "justify_items": null,
            "left": null,
            "margin": null,
            "max_height": null,
            "max_width": null,
            "min_height": null,
            "min_width": null,
            "object_fit": null,
            "object_position": null,
            "order": null,
            "overflow": null,
            "overflow_x": null,
            "overflow_y": null,
            "padding": null,
            "right": null,
            "top": null,
            "visibility": null,
            "width": null
          }
        },
        "60b4029809ce475781283cc334b2a9d1": {
          "model_module": "@jupyter-widgets/controls",
          "model_name": "ProgressStyleModel",
          "model_module_version": "1.5.0",
          "state": {
            "_model_module": "@jupyter-widgets/controls",
            "_model_module_version": "1.5.0",
            "_model_name": "ProgressStyleModel",
            "_view_count": null,
            "_view_module": "@jupyter-widgets/base",
            "_view_module_version": "1.2.0",
            "_view_name": "StyleView",
            "bar_color": null,
            "description_width": ""
          }
        },
        "cfc09ece463845c5865160b26cf1cd23": {
          "model_module": "@jupyter-widgets/base",
          "model_name": "LayoutModel",
          "model_module_version": "1.2.0",
          "state": {
            "_model_module": "@jupyter-widgets/base",
            "_model_module_version": "1.2.0",
            "_model_name": "LayoutModel",
            "_view_count": null,
            "_view_module": "@jupyter-widgets/base",
            "_view_module_version": "1.2.0",
            "_view_name": "LayoutView",
            "align_content": null,
            "align_items": null,
            "align_self": null,
            "border": null,
            "bottom": null,
            "display": null,
            "flex": null,
            "flex_flow": null,
            "grid_area": null,
            "grid_auto_columns": null,
            "grid_auto_flow": null,
            "grid_auto_rows": null,
            "grid_column": null,
            "grid_gap": null,
            "grid_row": null,
            "grid_template_areas": null,
            "grid_template_columns": null,
            "grid_template_rows": null,
            "height": null,
            "justify_content": null,
            "justify_items": null,
            "left": null,
            "margin": null,
            "max_height": null,
            "max_width": null,
            "min_height": null,
            "min_width": null,
            "object_fit": null,
            "object_position": null,
            "order": null,
            "overflow": null,
            "overflow_x": null,
            "overflow_y": null,
            "padding": null,
            "right": null,
            "top": null,
            "visibility": null,
            "width": null
          }
        },
        "dea9c8b22b5349348ef7490c356e3aeb": {
          "model_module": "@jupyter-widgets/controls",
          "model_name": "DescriptionStyleModel",
          "model_module_version": "1.5.0",
          "state": {
            "_model_module": "@jupyter-widgets/controls",
            "_model_module_version": "1.5.0",
            "_model_name": "DescriptionStyleModel",
            "_view_count": null,
            "_view_module": "@jupyter-widgets/base",
            "_view_module_version": "1.2.0",
            "_view_name": "StyleView",
            "description_width": ""
          }
        },
        "18a68cfb06c54597ab07d0c8181e7789": {
          "model_module": "@jupyter-widgets/controls",
          "model_name": "HBoxModel",
          "model_module_version": "1.5.0",
          "state": {
            "_dom_classes": [],
            "_model_module": "@jupyter-widgets/controls",
            "_model_module_version": "1.5.0",
            "_model_name": "HBoxModel",
            "_view_count": null,
            "_view_module": "@jupyter-widgets/controls",
            "_view_module_version": "1.5.0",
            "_view_name": "HBoxView",
            "box_style": "",
            "children": [
              "IPY_MODEL_14395c257f5b4377b3d0031b6f3f3067",
              "IPY_MODEL_09949e2b21ed4e64b5ac6c596f8cc387",
              "IPY_MODEL_8f4bbd955059482983d41b52aaddedaf"
            ],
            "layout": "IPY_MODEL_1b49dd50308445f7a19e81fc0e4accf6"
          }
        },
        "14395c257f5b4377b3d0031b6f3f3067": {
          "model_module": "@jupyter-widgets/controls",
          "model_name": "HTMLModel",
          "model_module_version": "1.5.0",
          "state": {
            "_dom_classes": [],
            "_model_module": "@jupyter-widgets/controls",
            "_model_module_version": "1.5.0",
            "_model_name": "HTMLModel",
            "_view_count": null,
            "_view_module": "@jupyter-widgets/controls",
            "_view_module_version": "1.5.0",
            "_view_name": "HTMLView",
            "description": "",
            "description_tooltip": null,
            "layout": "IPY_MODEL_8aa5f41e63094040aced02fda1e7efdd",
            "placeholder": "​",
            "style": "IPY_MODEL_6f5d9ee901464680affea1ee9c4e60f9",
            "value": "Map: 100%"
          }
        },
        "09949e2b21ed4e64b5ac6c596f8cc387": {
          "model_module": "@jupyter-widgets/controls",
          "model_name": "FloatProgressModel",
          "model_module_version": "1.5.0",
          "state": {
            "_dom_classes": [],
            "_model_module": "@jupyter-widgets/controls",
            "_model_module_version": "1.5.0",
            "_model_name": "FloatProgressModel",
            "_view_count": null,
            "_view_module": "@jupyter-widgets/controls",
            "_view_module_version": "1.5.0",
            "_view_name": "ProgressView",
            "bar_style": "success",
            "description": "",
            "description_tooltip": null,
            "layout": "IPY_MODEL_a936773384eb4eeeaf80aaf78fe3a1f4",
            "max": 112,
            "min": 0,
            "orientation": "horizontal",
            "style": "IPY_MODEL_2345a3f5c26c455793bcb99c7055690c",
            "value": 112
          }
        },
        "8f4bbd955059482983d41b52aaddedaf": {
          "model_module": "@jupyter-widgets/controls",
          "model_name": "HTMLModel",
          "model_module_version": "1.5.0",
          "state": {
            "_dom_classes": [],
            "_model_module": "@jupyter-widgets/controls",
            "_model_module_version": "1.5.0",
            "_model_name": "HTMLModel",
            "_view_count": null,
            "_view_module": "@jupyter-widgets/controls",
            "_view_module_version": "1.5.0",
            "_view_name": "HTMLView",
            "description": "",
            "description_tooltip": null,
            "layout": "IPY_MODEL_863847b7008945f69077561b31d55529",
            "placeholder": "​",
            "style": "IPY_MODEL_c4bad985ea0e46a6a4b353dc5ea4aaa7",
            "value": " 112/112 [00:00&lt;00:00, 630.92 examples/s]"
          }
        },
        "1b49dd50308445f7a19e81fc0e4accf6": {
          "model_module": "@jupyter-widgets/base",
          "model_name": "LayoutModel",
          "model_module_version": "1.2.0",
          "state": {
            "_model_module": "@jupyter-widgets/base",
            "_model_module_version": "1.2.0",
            "_model_name": "LayoutModel",
            "_view_count": null,
            "_view_module": "@jupyter-widgets/base",
            "_view_module_version": "1.2.0",
            "_view_name": "LayoutView",
            "align_content": null,
            "align_items": null,
            "align_self": null,
            "border": null,
            "bottom": null,
            "display": null,
            "flex": null,
            "flex_flow": null,
            "grid_area": null,
            "grid_auto_columns": null,
            "grid_auto_flow": null,
            "grid_auto_rows": null,
            "grid_column": null,
            "grid_gap": null,
            "grid_row": null,
            "grid_template_areas": null,
            "grid_template_columns": null,
            "grid_template_rows": null,
            "height": null,
            "justify_content": null,
            "justify_items": null,
            "left": null,
            "margin": null,
            "max_height": null,
            "max_width": null,
            "min_height": null,
            "min_width": null,
            "object_fit": null,
            "object_position": null,
            "order": null,
            "overflow": null,
            "overflow_x": null,
            "overflow_y": null,
            "padding": null,
            "right": null,
            "top": null,
            "visibility": null,
            "width": null
          }
        },
        "8aa5f41e63094040aced02fda1e7efdd": {
          "model_module": "@jupyter-widgets/base",
          "model_name": "LayoutModel",
          "model_module_version": "1.2.0",
          "state": {
            "_model_module": "@jupyter-widgets/base",
            "_model_module_version": "1.2.0",
            "_model_name": "LayoutModel",
            "_view_count": null,
            "_view_module": "@jupyter-widgets/base",
            "_view_module_version": "1.2.0",
            "_view_name": "LayoutView",
            "align_content": null,
            "align_items": null,
            "align_self": null,
            "border": null,
            "bottom": null,
            "display": null,
            "flex": null,
            "flex_flow": null,
            "grid_area": null,
            "grid_auto_columns": null,
            "grid_auto_flow": null,
            "grid_auto_rows": null,
            "grid_column": null,
            "grid_gap": null,
            "grid_row": null,
            "grid_template_areas": null,
            "grid_template_columns": null,
            "grid_template_rows": null,
            "height": null,
            "justify_content": null,
            "justify_items": null,
            "left": null,
            "margin": null,
            "max_height": null,
            "max_width": null,
            "min_height": null,
            "min_width": null,
            "object_fit": null,
            "object_position": null,
            "order": null,
            "overflow": null,
            "overflow_x": null,
            "overflow_y": null,
            "padding": null,
            "right": null,
            "top": null,
            "visibility": null,
            "width": null
          }
        },
        "6f5d9ee901464680affea1ee9c4e60f9": {
          "model_module": "@jupyter-widgets/controls",
          "model_name": "DescriptionStyleModel",
          "model_module_version": "1.5.0",
          "state": {
            "_model_module": "@jupyter-widgets/controls",
            "_model_module_version": "1.5.0",
            "_model_name": "DescriptionStyleModel",
            "_view_count": null,
            "_view_module": "@jupyter-widgets/base",
            "_view_module_version": "1.2.0",
            "_view_name": "StyleView",
            "description_width": ""
          }
        },
        "a936773384eb4eeeaf80aaf78fe3a1f4": {
          "model_module": "@jupyter-widgets/base",
          "model_name": "LayoutModel",
          "model_module_version": "1.2.0",
          "state": {
            "_model_module": "@jupyter-widgets/base",
            "_model_module_version": "1.2.0",
            "_model_name": "LayoutModel",
            "_view_count": null,
            "_view_module": "@jupyter-widgets/base",
            "_view_module_version": "1.2.0",
            "_view_name": "LayoutView",
            "align_content": null,
            "align_items": null,
            "align_self": null,
            "border": null,
            "bottom": null,
            "display": null,
            "flex": null,
            "flex_flow": null,
            "grid_area": null,
            "grid_auto_columns": null,
            "grid_auto_flow": null,
            "grid_auto_rows": null,
            "grid_column": null,
            "grid_gap": null,
            "grid_row": null,
            "grid_template_areas": null,
            "grid_template_columns": null,
            "grid_template_rows": null,
            "height": null,
            "justify_content": null,
            "justify_items": null,
            "left": null,
            "margin": null,
            "max_height": null,
            "max_width": null,
            "min_height": null,
            "min_width": null,
            "object_fit": null,
            "object_position": null,
            "order": null,
            "overflow": null,
            "overflow_x": null,
            "overflow_y": null,
            "padding": null,
            "right": null,
            "top": null,
            "visibility": null,
            "width": null
          }
        },
        "2345a3f5c26c455793bcb99c7055690c": {
          "model_module": "@jupyter-widgets/controls",
          "model_name": "ProgressStyleModel",
          "model_module_version": "1.5.0",
          "state": {
            "_model_module": "@jupyter-widgets/controls",
            "_model_module_version": "1.5.0",
            "_model_name": "ProgressStyleModel",
            "_view_count": null,
            "_view_module": "@jupyter-widgets/base",
            "_view_module_version": "1.2.0",
            "_view_name": "StyleView",
            "bar_color": null,
            "description_width": ""
          }
        },
        "863847b7008945f69077561b31d55529": {
          "model_module": "@jupyter-widgets/base",
          "model_name": "LayoutModel",
          "model_module_version": "1.2.0",
          "state": {
            "_model_module": "@jupyter-widgets/base",
            "_model_module_version": "1.2.0",
            "_model_name": "LayoutModel",
            "_view_count": null,
            "_view_module": "@jupyter-widgets/base",
            "_view_module_version": "1.2.0",
            "_view_name": "LayoutView",
            "align_content": null,
            "align_items": null,
            "align_self": null,
            "border": null,
            "bottom": null,
            "display": null,
            "flex": null,
            "flex_flow": null,
            "grid_area": null,
            "grid_auto_columns": null,
            "grid_auto_flow": null,
            "grid_auto_rows": null,
            "grid_column": null,
            "grid_gap": null,
            "grid_row": null,
            "grid_template_areas": null,
            "grid_template_columns": null,
            "grid_template_rows": null,
            "height": null,
            "justify_content": null,
            "justify_items": null,
            "left": null,
            "margin": null,
            "max_height": null,
            "max_width": null,
            "min_height": null,
            "min_width": null,
            "object_fit": null,
            "object_position": null,
            "order": null,
            "overflow": null,
            "overflow_x": null,
            "overflow_y": null,
            "padding": null,
            "right": null,
            "top": null,
            "visibility": null,
            "width": null
          }
        },
        "c4bad985ea0e46a6a4b353dc5ea4aaa7": {
          "model_module": "@jupyter-widgets/controls",
          "model_name": "DescriptionStyleModel",
          "model_module_version": "1.5.0",
          "state": {
            "_model_module": "@jupyter-widgets/controls",
            "_model_module_version": "1.5.0",
            "_model_name": "DescriptionStyleModel",
            "_view_count": null,
            "_view_module": "@jupyter-widgets/base",
            "_view_module_version": "1.2.0",
            "_view_name": "StyleView",
            "description_width": ""
          }
        }
      }
    },
    "accelerator": "GPU"
  },
  "nbformat": 4,
  "nbformat_minor": 0
}